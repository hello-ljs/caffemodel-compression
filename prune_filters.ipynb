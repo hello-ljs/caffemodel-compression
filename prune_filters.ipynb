{
 "cells": [
  {
   "cell_type": "code",
   "execution_count": 8,
   "metadata": {
    "collapsed": true
   },
   "outputs": [],
   "source": [
    "import caffe\n",
    "import numpy as np\n",
    "from caffe import layers as L,params as P,proto,to_proto\n",
    "from caffe import Net\n",
    "import sys"
   ]
  },
  {
   "cell_type": "code",
   "execution_count": 9,
   "metadata": {
    "collapsed": true
   },
   "outputs": [],
   "source": [
    "root='/home/sdu/caffe-ssd/'                                 \n",
    "#deploy=root + 'models/VGGNet/VGG_ILSVRC_16_layers_fc_reduced_deploy.prototxt'  \n",
    "deploy=root + 'models/VGGNet/VGG_ILSVRC_16_layers_fc_reduced_deploy.prototxt'\n",
    "caffemodel=root + 'models/VGGNet/VGG_ILSVRC_16_layers_fc_reduced.caffemodel' \n",
    "#deploy=root + 'models/VGGNet/VOC2016/SSD_300x300_74MAP/deploy.prototxt'\n",
    "#caffemodel=root + 'models/VGGNet/VOC2016/SSD_300x300_74MAP/VGG_VOC2016_SSD_300x300_iter_28000.caffemodel' \n",
    "deploy_in=root+'models/VGGNet/VOC0712/SSD_300x300/deploy.prototxt'\n",
    "caffemodel_in=root+'models/VGGNet/VOC0712/SSD_300x300/VGG_VOC0712_SSD_300x300_iter_6000.caffemodel'"
   ]
  },
  {
   "cell_type": "code",
   "execution_count": 10,
   "metadata": {},
   "outputs": [],
   "source": [
    "net = caffe.Net(deploy,caffemodel, 0)\n",
    "net_in  = caffe.Net(deploy_in,caffemodel_in,0)\n",
    "threshold={'conv1_1':2, 'conv1_2':10, 'conv2_1':10, 'conv2_2':17, 'conv3_1':14, 'conv3_2':20, 'conv3_3':23}#,'conv4_1':3,'conv4_2':3,'conv4_3':3,'conv5_1':3,'conv5_2':3,'conv5_3':3,'fc6':3,'fc7':3,'conv6_1':3,'conv6_2':3,'conv7_1':3,'conv7_2':3,'conv8_1':3,'conv8_2':3,'conv9_1':3,'conv9_2':3}\n",
    "#[(k,v[0].data.shape) for k,v in net.params.items()]  "
   ]
  },
  {
   "cell_type": "code",
   "execution_count": 11,
   "metadata": {
    "collapsed": true
   },
   "outputs": [],
   "source": [
    "np.set_printoptions(threshold='nan')\n",
    "a=net.params['conv1_1'][0].data\n",
    "b=net.params['conv1_2'][0].data\n",
    "c=net.params['conv2_1'][0].data\n",
    "d=net.params['conv2_2'][0].data\n",
    "e=net.params['conv3_1'][0].data\n",
    "f=net.params['conv3_2'][0].data\n",
    "g=net.params['conv3_3'][0].data\n",
    "h=net.params['conv4_1'][0].data\n",
    "i=net.params['conv4_2'][0].data\n",
    "j=net.params['conv4_3'][0].data\n",
    "k=net.params['conv5_1'][0].data\n",
    "l=net.params['conv5_2'][0].data\n",
    "m=net.params['conv5_3'][0].data\n",
    "n=net.params['fc6'][0].data\n",
    "o=net.params['fc7'][0].data\n",
    "#p=net.params['conv6_1'][0].data\n",
    "#q=net.params['conv6_2'][0].data\n",
    "#r=net.params['conv7_1'][0].data\n",
    "#s=net.params['conv7_2'][0].data\n",
    "#t=net.params['conv8_1'][0].data\n",
    "#u=net.params['conv8_2'][0].data\n",
    "#v=net.params['conv9_1'][0].data\n",
    "#w=net.params['conv9_2'][0].data"
   ]
  },
  {
   "cell_type": "code",
   "execution_count": 12,
   "metadata": {
    "collapsed": true
   },
   "outputs": [],
   "source": [
    "a_in=net_in.params['conv1_1'][0].data\n",
    "b_in=net_in.params['conv1_2'][0].data\n",
    "c_in=net_in.params['conv2_1'][0].data\n",
    "d_in=net_in.params['conv2_2'][0].data\n",
    "e_in=net_in.params['conv3_1'][0].data\n",
    "f_in=net_in.params['conv3_2'][0].data\n",
    "g_in=net_in.params['conv3_3'][0].data\n",
    "h_in=net_in.params['conv4_1'][0].data\n",
    "i_in=net_in.params['conv4_2'][0].data\n",
    "j_in=net_in.params['conv4_3'][0].data\n",
    "k_in=net_in.params['conv5_1'][0].data\n",
    "l_in=net_in.params['conv5_2'][0].data\n",
    "m_in=net_in.params['conv5_3'][0].data\n",
    "n_in=net_in.params['fc6'][0].data\n",
    "o_in=net_in.params['fc7'][0].data\n",
    "p_in=net_in.params['conv6_1'][0].data\n",
    "q_in=net_in.params['conv6_2'][0].data\n",
    "r_in=net_in.params['conv7_1'][0].data\n",
    "s_in=net_in.params['conv7_2'][0].data\n",
    "t_in=net_in.params['conv8_1'][0].data\n",
    "u_in=net_in.params['conv8_2'][0].data\n",
    "v_in=net_in.params['conv9_1'][0].data\n",
    "w_in=net_in.params['conv9_2'][0].data"
   ]
  },
  {
   "cell_type": "code",
   "execution_count": 6,
   "metadata": {},
   "outputs": [
    {
     "name": "stdout",
     "output_type": "stream",
     "text": [
      "30\n"
     ]
    }
   ],
   "source": [
    "counter=0\n",
    "for i_n in range(a.shape[0]):\n",
    "    if sum(sum(sum(abs(net.params['conv1_1'][0].data[i_n]))))<4:\n",
    "        #print  sum(sum(sum(abs(net.params['conv1_1'][0].data[i_n]))))\n",
    "          net.params['conv1_1'][0].data[i_n]=0\n",
    "          counter=counter+1\n",
    "    #print net.params['conv1_1'][0].data[i_n]\n",
    "print counter"
   ]
  },
  {
   "cell_type": "code",
   "execution_count": 7,
   "metadata": {},
   "outputs": [
    {
     "name": "stdout",
     "output_type": "stream",
     "text": [
      "30\n"
     ]
    }
   ],
   "source": [
    "counter=0\n",
    "for i_n in range(b.shape[0]):\n",
    "    if sum(sum(sum(abs(net.params['conv1_2'][0].data[i_n]))))<16:\n",
    "        #print  sum(sum(sum(abs(net.params['conv1_1'][0].data[i_n]))))\n",
    "          net.params['conv1_2'][0].data[i_n]=0\n",
    "          counter=counter+1\n",
    "    #print net.params['conv1_2'][0].data[i_n]\n",
    "print counter\n",
    "#for i_n in range(a.shape[0]):\n",
    "   # if net.params['conv1_1'][0].data[i_n].all()!=0:\n",
    "       # print ('one')"
   ]
  },
  {
   "cell_type": "code",
   "execution_count": 8,
   "metadata": {},
   "outputs": [
    {
     "name": "stdout",
     "output_type": "stream",
     "text": [
      "67\n"
     ]
    }
   ],
   "source": [
    "counter=0\n",
    "for i_n in range(c.shape[0]):\n",
    "    if sum(sum(sum(abs(net.params['conv2_1'][0].data[i_n]))))<13:\n",
    "        #print  sum(sum(sum(abs(net.params['conv1_1'][0].data[i_n]))))\n",
    "          net.params['conv2_1'][0].data[i_n]=0\n",
    "          counter=counter+1\n",
    "    #print net.params['conv2_1'][0].data[i_n]\n",
    "print counter\n",
    "#for i_n in range(a.shape[0]):\n",
    "   # if net.params['conv1_1'][0].data[i_n].all()!=0:\n",
    "       # print ('one')"
   ]
  },
  {
   "cell_type": "code",
   "execution_count": 9,
   "metadata": {},
   "outputs": [
    {
     "name": "stdout",
     "output_type": "stream",
     "text": [
      "61\n"
     ]
    }
   ],
   "source": [
    "counter=0\n",
    "for i_n in range(d.shape[0]):\n",
    "    if sum(sum(sum(abs(net.params['conv2_2'][0].data[i_n]))))<18:\n",
    "        #print  sum(sum(sum(abs(net.params['conv1_1'][0].data[i_n]))))\n",
    "          net.params['conv2_2'][0].data[i_n]=0\n",
    "          counter=counter+1\n",
    "#print net.params['conv2_2'][0].data[i_n]\n",
    "print counter\n",
    "\n",
    "#for i_n in range(a.shape[0]):\n",
    "   # if net.params['conv1_1'][0].data[i_n].all()!=0:\n",
    "       # print ('one')"
   ]
  },
  {
   "cell_type": "code",
   "execution_count": 10,
   "metadata": {},
   "outputs": [
    {
     "name": "stdout",
     "output_type": "stream",
     "text": [
      "121\n"
     ]
    }
   ],
   "source": [
    "counter=0\n",
    "for i_n in range(e.shape[0]):\n",
    "    if sum(sum(sum(abs(net.params['conv3_1'][0].data[i_n]))))<13.6:\n",
    "        #print  sum(sum(sum(abs(net.params['conv1_1'][0].data[i_n]))))\n",
    "          net.params['conv3_1'][0].data[i_n]=0\n",
    "          counter=counter+1\n",
    "    #print net.params['conv3_1'][0].data[i_n]\n",
    "print counter\n",
    "#for i_n in range(a.shape[0]):\n",
    "   # if net.params['conv1_1'][0].data[i_n].all()!=0:\n",
    "       # print ('one')"
   ]
  },
  {
   "cell_type": "code",
   "execution_count": 11,
   "metadata": {},
   "outputs": [
    {
     "name": "stdout",
     "output_type": "stream",
     "text": [
      "130\n"
     ]
    }
   ],
   "source": [
    "counter=0\n",
    "for i_n in range(f.shape[0]):\n",
    "    if sum(sum(sum(abs(net.params['conv3_2'][0].data[i_n]))))<20:\n",
    "        #print  sum(sum(sum(abs(net.params['conv1_1'][0].data[i_n]))))\n",
    "          net.params['conv3_2'][0].data[i_n]=0\n",
    "          counter=counter+1\n",
    "    #print net.params['conv3_1'][0].data[i_n]\n",
    "print counter\n",
    "#for i_n in range(a.shape[0]):\n",
    "   # if net.params['conv1_1'][0].data[i_n].all()!=0:\n",
    "       # print ('one')"
   ]
  },
  {
   "cell_type": "code",
   "execution_count": 12,
   "metadata": {},
   "outputs": [
    {
     "name": "stdout",
     "output_type": "stream",
     "text": [
      "125\n"
     ]
    }
   ],
   "source": [
    "counter=0#256\n",
    "for i_n in range(g.shape[0]):\n",
    "    if sum(sum(sum(abs(net.params['conv3_3'][0].data[i_n]))))<20.6:\n",
    "        #print  sum(sum(sum(abs(net.params['conv1_1'][0].data[i_n]))))\n",
    "          net.params['conv3_3'][0].data[i_n]=0\n",
    "          counter=counter+1\n",
    "    #print net.params['conv3_1'][0].data[i_n]\n",
    "print counter\n",
    "#for i_n in range(a.shape[0]):\n",
    "   # if net.params['conv1_1'][0].data[i_n].all()!=0:\n",
    "       # print ('one')"
   ]
  },
  {
   "cell_type": "code",
   "execution_count": 13,
   "metadata": {},
   "outputs": [
    {
     "name": "stdout",
     "output_type": "stream",
     "text": [
      "470\n"
     ]
    }
   ],
   "source": [
    "counter=0#512\n",
    "for i_n in range(h.shape[0]):\n",
    "    if sum(sum(sum(abs(net.params['conv4_1'][0].data[i_n]))))<19.5:\n",
    "        #print  sum(sum(sum(abs(net.params['conv1_1'][0].data[i_n]))))\n",
    "          net.params['conv4_1'][0].data[i_n]=0\n",
    "          counter=counter+1\n",
    "    #print net.params['conv3_1'][0].data[i_n]\n",
    "print counter\n",
    "#for i_n in range(a.shape[0]):\n",
    "   # if net.params['conv1_1'][0].data[i_n].all()!=0:\n",
    "       # print ('one')"
   ]
  },
  {
   "cell_type": "code",
   "execution_count": 14,
   "metadata": {},
   "outputs": [
    {
     "name": "stdout",
     "output_type": "stream",
     "text": [
      "441\n"
     ]
    }
   ],
   "source": [
    "counter=0#512\n",
    "for i_n in range(i.shape[0]):\n",
    "    if sum(sum(sum(abs(net.params['conv4_2'][0].data[i_n]))))<29:\n",
    "        #print  sum(sum(sum(abs(net.params['conv1_1'][0].data[i_n]))))\n",
    "          net.params['conv4_2'][0].data[i_n]=0\n",
    "          counter=counter+1\n",
    "    #print net.params['conv3_1'][0].data[i_n]\n",
    "print counter\n",
    "#for i_n in range(a.shape[0]):\n",
    "   # if net.params['conv1_1'][0].data[i_n].all()!=0:\n",
    "       # print ('one')"
   ]
  },
  {
   "cell_type": "code",
   "execution_count": 15,
   "metadata": {},
   "outputs": [
    {
     "name": "stdout",
     "output_type": "stream",
     "text": [
      "439\n"
     ]
    }
   ],
   "source": [
    "counter=0#512\n",
    "for i_n in range(j.shape[0]):\n",
    "    if sum(sum(sum(abs(net.params['conv4_3'][0].data[i_n]))))<30:\n",
    "        #print  sum(sum(sum(abs(net.params['conv1_1'][0].data[i_n]))))\n",
    "          net.params['conv4_3'][0].data[i_n]=0\n",
    "          counter=counter+1\n",
    "    #print net.params['conv3_1'][0].data[i_n]\n",
    "print counter\n",
    "#for i_n in range(a.shape[0]):\n",
    "   # if net.params['conv1_1'][0].data[i_n].all()!=0:\n",
    "       # print ('one')"
   ]
  },
  {
   "cell_type": "code",
   "execution_count": 16,
   "metadata": {},
   "outputs": [
    {
     "name": "stdout",
     "output_type": "stream",
     "text": [
      "432\n"
     ]
    }
   ],
   "source": [
    "counter=0#512\n",
    "for i_n in range(k.shape[0]):\n",
    "    if sum(sum(sum(abs(net.params['conv5_1'][0].data[i_n]))))<32:\n",
    "        #print  sum(sum(sum(abs(net.params['conv1_1'][0].data[i_n]))))\n",
    "          net.params['conv5_1'][0].data[i_n]=0\n",
    "          counter=counter+1\n",
    "    #print net.params['conv3_1'][0].data[i_n]\n",
    "print counter\n",
    "#for i_n in range(a.shape[0]):\n",
    "   # if net.params['conv1_1'][0].data[i_n].all()!=0:\n",
    "       # print ('one')"
   ]
  },
  {
   "cell_type": "code",
   "execution_count": 17,
   "metadata": {},
   "outputs": [
    {
     "name": "stdout",
     "output_type": "stream",
     "text": [
      "426\n"
     ]
    }
   ],
   "source": [
    "counter=0#512\n",
    "for i_n in range(l.shape[0]):\n",
    "    if sum(sum(sum(abs(net.params['conv5_2'][0].data[i_n]))))<33:\n",
    "        #print  sum(sum(sum(abs(net.params['conv1_1'][0].data[i_n]))))\n",
    "          net.params['conv5_2'][0].data[i_n]=0\n",
    "          counter=counter+1\n",
    "    #print net.params['conv3_1'][0].data[i_n]\n",
    "print counter\n",
    "#for i_n in range(a.shape[0]):\n",
    "   # if net.params['conv1_1'][0].data[i_n].all()!=0:\n",
    "       # print ('one')"
   ]
  },
  {
   "cell_type": "code",
   "execution_count": 18,
   "metadata": {},
   "outputs": [
    {
     "name": "stdout",
     "output_type": "stream",
     "text": [
      "439\n"
     ]
    }
   ],
   "source": [
    "counter=0#512\n",
    "for i_n in range(m.shape[0]):\n",
    "    if sum(sum(sum(abs(net.params['conv5_3'][0].data[i_n]))))<33.5:\n",
    "        #print  sum(sum(sum(abs(net.params['conv1_1'][0].data[i_n]))))\n",
    "          net.params['conv5_3'][0].data[i_n]=0\n",
    "          counter=counter+1\n",
    "    #print net.params['conv3_1'][0].data[i_n]\n",
    "print counter\n",
    "#for i_n in range(a.shape[0]):\n",
    "   # if net.params['conv1_1'][0].data[i_n].all()!=0:\n",
    "       # print ('one')"
   ]
  },
  {
   "cell_type": "code",
   "execution_count": 19,
   "metadata": {},
   "outputs": [
    {
     "name": "stdout",
     "output_type": "stream",
     "text": [
      "1005\n"
     ]
    }
   ],
   "source": [
    "counter=0#1024\n",
    "for i_n in range(n.shape[0]):\n",
    "    if sum(sum(sum(abs(net.params['fc6'][0].data[i_n]))))<8.8:\n",
    "        #print  sum(sum(sum(abs(net.params['conv1_1'][0].data[i_n]))))\n",
    "          net.params['fc6'][0].data[i_n]=0\n",
    "          counter=counter+1\n",
    "    #print net.params['conv3_1'][0].data[i_n]\n",
    "print counter\n",
    "#for i_n in range(a.shape[0]):\n",
    "   # if net.params['conv1_1'][0].data[i_n].all()!=0:\n",
    "       # print ('one')"
   ]
  },
  {
   "cell_type": "code",
   "execution_count": 20,
   "metadata": {},
   "outputs": [
    {
     "name": "stdout",
     "output_type": "stream",
     "text": [
      "1004\n"
     ]
    }
   ],
   "source": [
    "counter=0#1024\n",
    "for i_n in range(o.shape[0]):\n",
    "    if sum(sum(sum(abs(net.params['fc7'][0].data[i_n]))))<3.85:\n",
    "        #print  sum(sum(sum(abs(net.params['conv1_1'][0].data[i_n]))))\n",
    "          net.params['fc7'][0].data[i_n]=0\n",
    "          counter=counter+1\n",
    "    #print net.params['conv3_1'][0].data[i_n]\n",
    "print counter\n",
    "#for i_n in range(a.shape[0]):\n",
    "   # if net.params['conv1_1'][0].data[i_n].all()!=0:\n",
    "       # print ('one')"
   ]
  },
  {
   "cell_type": "code",
   "execution_count": null,
   "metadata": {
    "collapsed": true
   },
   "outputs": [],
   "source": [
    "counter=0#256\n",
    "for i_n in range(p.shape[0]):\n",
    "    if sum(sum(sum(abs(net.params['conv6_1'][0].data[i_n]))))<27.5:\n",
    "        #print  sum(sum(sum(abs(net.params['conv1_1'][0].data[i_n]))))\n",
    "          #net.params['conv6_1'][0].data[i_n]=0\n",
    "          counter=counter+1\n",
    "    #print net.params['conv3_1'][0].data[i_n]\n",
    "print counter\n",
    "#for i_n in range(a.shape[0]):\n",
    "   # if net.params['conv1_1'][0].data[i_n].all()!=0:\n",
    "       # print ('one')"
   ]
  },
  {
   "cell_type": "code",
   "execution_count": null,
   "metadata": {
    "collapsed": true
   },
   "outputs": [],
   "source": [
    "counter=0#512\n",
    "for i_n in range(q.shape[0]):\n",
    "    if sum(sum(sum(abs(net.params['conv6_2'][0].data[i_n]))))<41.3:\n",
    "        #print  sum(sum(sum(abs(net.params['conv1_1'][0].data[i_n]))))\n",
    "          net.params['conv6_2'][0].data[i_n]=0\n",
    "          counter=counter+1\n",
    "    #print net.params['conv3_1'][0].data[i_n]\n",
    "print counter\n",
    "#for i_n in range(a.shape[0]):\n",
    "   # if net.params['conv1_1'][0].data[i_n].all()!=0:\n",
    "       # print ('one')"
   ]
  },
  {
   "cell_type": "code",
   "execution_count": null,
   "metadata": {
    "collapsed": true
   },
   "outputs": [],
   "source": [
    "counter=0#128\n",
    "for i_n in range(r.shape[0]):\n",
    "    if sum(sum(sum(abs(net.params['conv7_1'][0].data[i_n]))))<19.5:\n",
    "        #print  sum(sum(sum(abs(net.params['conv1_1'][0].data[i_n]))))\n",
    "          net.params['conv7_1'][0].data[i_n]=0\n",
    "          counter=counter+1\n",
    "    #print net.params['conv3_1'][0].data[i_n]\n",
    "print counter\n",
    "#for i_n in range(a.shape[0]):\n",
    "   # if net.params['conv1_1'][0].data[i_n].all()!=0:\n",
    "       # print ('one')"
   ]
  },
  {
   "cell_type": "code",
   "execution_count": null,
   "metadata": {
    "collapsed": true
   },
   "outputs": [],
   "source": [
    "counter=0#256\n",
    "for i_n in range(s.shape[0]):\n",
    "    if sum(sum(sum(abs(net.params['conv7_2'][0].data[i_n]))))<29.1:\n",
    "        #print  sum(sum(sum(abs(net.params['conv1_1'][0].data[i_n]))))\n",
    "          net.params['conv7_2'][0].data[i_n]=0\n",
    "          counter=counter+1\n",
    "    #print net.params['conv3_1'][0].data[i_n]\n",
    "print counter\n",
    "#for i_n in range(a.shape[0]):\n",
    "   # if net.params['conv1_1'][0].data[i_n].all()!=0:\n",
    "       # print ('one')"
   ]
  },
  {
   "cell_type": "code",
   "execution_count": null,
   "metadata": {
    "collapsed": true
   },
   "outputs": [],
   "source": [
    "counter=0#128\n",
    "for i_n in range(t.shape[0]):\n",
    "    if sum(sum(sum(abs(net.params['conv8_1'][0].data[i_n]))))<13.8:\n",
    "        #print  sum(sum(sum(abs(net.params['conv1_1'][0].data[i_n]))))\n",
    "          net.params['conv8_1'][0].data[i_n]=0\n",
    "          counter=counter+1\n",
    "    #print net.params['conv3_1'][0].data[i_n]\n",
    "print counter\n",
    "#for i_n in range(a.shape[0]):\n",
    "   # if net.params['conv1_1'][0].data[i_n].all()!=0:\n",
    "       # print ('one')"
   ]
  },
  {
   "cell_type": "code",
   "execution_count": null,
   "metadata": {
    "collapsed": true
   },
   "outputs": [],
   "source": [
    "counter=0#256\n",
    "for i_n in range(u.shape[0]):\n",
    "    if sum(sum(sum(abs(net.params['conv8_2'][0].data[i_n]))))<29.3:\n",
    "        #print  sum(sum(sum(abs(net.params['conv1_1'][0].data[i_n]))))\n",
    "          net.params['conv8_2'][0].data[i_n]=0\n",
    "          counter=counter+1\n",
    "    #print net.params['conv3_1'][0].data[i_n]\n",
    "print counter\n",
    "#for i_n in range(a.shape[0]):\n",
    "   # if net.params['conv1_1'][0].data[i_n].all()!=0:\n",
    "       # print ('one')"
   ]
  },
  {
   "cell_type": "code",
   "execution_count": null,
   "metadata": {
    "collapsed": true
   },
   "outputs": [],
   "source": [
    "counter=0#128\n",
    "for i_n in range(v.shape[0]):\n",
    "    if sum(sum(sum(abs(net.params['conv9_1'][0].data[i_n]))))<13.9:\n",
    "        #print  sum(sum(sum(abs(net.params['conv1_1'][0].data[i_n]))))\n",
    "          net.params['conv9_1'][0].data[i_n]=0\n",
    "          counter=counter+1\n",
    "    #print net.params['conv3_1'][0].data[i_n]\n",
    "print counter\n",
    "#for i_n in range(a.shape[0]):\n",
    "   # if net.params['conv1_1'][0].data[i_n].all()!=0:\n",
    "       # print ('one')"
   ]
  },
  {
   "cell_type": "code",
   "execution_count": null,
   "metadata": {
    "collapsed": true
   },
   "outputs": [],
   "source": [
    "counter=0#256\n",
    "for i_n in range(w.shape[0]):\n",
    "    if sum(sum(sum(abs(net.params['conv9_2'][0].data[i_n]))))<29.2:\n",
    "        #print  sum(sum(sum(abs(net.params['conv1_1'][0].data[i_n]))))\n",
    "          net.params['conv9_2'][0].data[i_n]=0\n",
    "          counter=counter+1\n",
    "    #print net.params['conv3_1'][0].data[i_n]\n",
    "print counter\n",
    "#for i_n in range(a.shape[0]):\n",
    "   # if net.params['conv1_1'][0].data[i_n].all()!=0:\n",
    "       # print ('one')"
   ]
  },
  {
   "cell_type": "code",
   "execution_count": 21,
   "metadata": {
    "collapsed": true
   },
   "outputs": [],
   "source": [
    "net.save('/home/sdu/caffe-ssd/models/VGGNet/VOC2016/SSD_300x300/compressed.caffemodel')"
   ]
  },
  {
   "cell_type": "code",
   "execution_count": null,
   "metadata": {
    "collapsed": true
   },
   "outputs": [],
   "source": [
    "#根据以上打出来电counter值，修改model_libs.py里每层滤波器的数量，然后运行ssd_pascal.py，得到一个受体caffemodel"
   ]
  },
  {
   "cell_type": "code",
   "execution_count": 13,
   "metadata": {
    "collapsed": true
   },
   "outputs": [],
   "source": [
    "for i_n in range(a_in.shape[0]):\n",
    "        if net.params['conv1_1'][0].data[i_n].all()!=0:\n",
    "            net_in.params['conv1_1'][0].data[i_n]=net.params['conv1_1'][0].data[i_n]\n",
    "#print net_in.params['conv1_1'][0].data"
   ]
  },
  {
   "cell_type": "code",
   "execution_count": null,
   "metadata": {
    "collapsed": true
   },
   "outputs": [],
   "source": [
    "print net_in.params['conv1_1'][0].data.shape\n",
    "print net.params['conv1_1'][0].data.shape\n",
    "print net_in.params['conv1_2'][0].data.shape\n",
    "print net.params['conv1_2'][0].data.shape"
   ]
  },
  {
   "cell_type": "code",
   "execution_count": 14,
   "metadata": {
    "collapsed": true
   },
   "outputs": [],
   "source": [
    "for i_n in range(b_in.shape[0]):\n",
    "    for i_c in range(b.shape[1]):\n",
    "        if net.params['conv1_2'][0].data[i_n].all()!=0 and i_c < net_in.params['conv1_2'][0].data.shape[1]:\n",
    "             net_in.params['conv1_2'][0].data[i_n][i_c]=net.params['conv1_2'][0].data[i_n][i_c]\n",
    "#print net_in.params['conv1_2'][0].data"
   ]
  },
  {
   "cell_type": "code",
   "execution_count": 15,
   "metadata": {
    "collapsed": true
   },
   "outputs": [],
   "source": [
    "for i_n in range(c_in.shape[0]):\n",
    "    for i_c in range(c.shape[1]):\n",
    "        if net.params['conv2_1'][0].data[i_n].all()!=0 and i_c < net_in.params['conv2_1'][0].data.shape[1]:\n",
    "             net_in.params['conv2_1'][0].data[i_n][i_c]=net.params['conv2_1'][0].data[i_n][i_c]\n",
    "#print net_in.params['conv1_2'][0].data"
   ]
  },
  {
   "cell_type": "code",
   "execution_count": 16,
   "metadata": {
    "collapsed": true
   },
   "outputs": [],
   "source": [
    "for i_n in range(d_in.shape[0]):\n",
    "    for i_c in range(d.shape[1]):\n",
    "        if net.params['conv2_2'][0].data[i_n].all()!=0 and i_c < net_in.params['conv2_2'][0].data.shape[1]:\n",
    "             net_in.params['conv2_2'][0].data[i_n][i_c]=net.params['conv2_2'][0].data[i_n][i_c]\n",
    "#print net_in.params['conv1_2'][0].data"
   ]
  },
  {
   "cell_type": "code",
   "execution_count": 17,
   "metadata": {
    "collapsed": true
   },
   "outputs": [],
   "source": [
    "for i_n in range(e_in.shape[0]):\n",
    "    for i_c in range(e.shape[1]):\n",
    "        if net.params['conv3_1'][0].data[i_n].all()!=0 and i_c < net_in.params['conv3_1'][0].data.shape[1]:\n",
    "             net_in.params['conv3_1'][0].data[i_n][i_c]=net.params['conv3_1'][0].data[i_n][i_c]\n",
    "#print net_in.params['conv1_2'][0].data"
   ]
  },
  {
   "cell_type": "code",
   "execution_count": 18,
   "metadata": {
    "collapsed": true
   },
   "outputs": [],
   "source": [
    "for i_n in range(f_in.shape[0]):\n",
    "    for i_c in range(f.shape[1]):\n",
    "        if net.params['conv3_2'][0].data[i_n].all()!=0 and i_c < net_in.params['conv3_2'][0].data.shape[1]:\n",
    "             net_in.params['conv3_2'][0].data[i_n][i_c]=net.params['conv3_2'][0].data[i_n][i_c]\n",
    "#print net_in.params['conv1_2'][0].data"
   ]
  },
  {
   "cell_type": "code",
   "execution_count": 19,
   "metadata": {
    "collapsed": true
   },
   "outputs": [],
   "source": [
    "for i_n in range(g_in.shape[0]):\n",
    "    for i_c in range(g.shape[1]):\n",
    "        if net.params['conv3_3'][0].data[i_n].all()!=0 and i_c < net_in.params['conv3_3'][0].data.shape[1]:\n",
    "             net_in.params['conv3_3'][0].data[i_n][i_c]=net.params['conv3_3'][0].data[i_n][i_c]\n",
    "#print net_in.params['conv1_2'][0].data"
   ]
  },
  {
   "cell_type": "code",
   "execution_count": 20,
   "metadata": {
    "collapsed": true
   },
   "outputs": [],
   "source": [
    "for i_n in range(h_in.shape[0]):\n",
    "    for i_c in range(h.shape[1]):\n",
    "        if net.params['conv4_1'][0].data[i_n].all()!=0 and i_c < net_in.params['conv4_1'][0].data.shape[1]:\n",
    "             net_in.params['conv4_1'][0].data[i_n][i_c]=net.params['conv4_1'][0].data[i_n][i_c]\n",
    "#print net_in.params['conv1_2'][0].data"
   ]
  },
  {
   "cell_type": "code",
   "execution_count": 21,
   "metadata": {
    "collapsed": true
   },
   "outputs": [],
   "source": [
    "\n",
    "for i_n in range(i_in.shape[0]):\n",
    "    for i_c in range(i.shape[1]):\n",
    "        if net.params['conv4_2'][0].data[i_n].all()!=0 and i_c < net_in.params['conv4_2'][0].data.shape[1]:\n",
    "             net_in.params['conv4_2'][0].data[i_n][i_c]=net.params['conv4_2'][0].data[i_n][i_c]\n",
    "#print net_in.params['conv1_2'][0].data"
   ]
  },
  {
   "cell_type": "code",
   "execution_count": 22,
   "metadata": {
    "collapsed": true
   },
   "outputs": [],
   "source": [
    "for i_n in range(j_in.shape[0]):\n",
    "    for i_c in range(j.shape[1]):\n",
    "        if net.params['conv4_3'][0].data[i_n].all()!=0 and i_c < net_in.params['conv4_3'][0].data.shape[1]:\n",
    "             net_in.params['conv4_3'][0].data[i_n][i_c]=net.params['conv4_3'][0].data[i_n][i_c]\n",
    "#print net_in.params['conv1_2'][0].data"
   ]
  },
  {
   "cell_type": "code",
   "execution_count": 32,
   "metadata": {
    "collapsed": true
   },
   "outputs": [],
   "source": [
    "for i_n in range(k_in.shape[0]):\n",
    "    for i_c in range(k.shape[1]):\n",
    "        if net.params['conv5_1'][0].data[i_n].all()!=0 and i_c < net_in.params['conv5_1'][0].data.shape[1]:\n",
    "             net_in.params['conv5_1'][0].data[i_n][i_c]=net.params['conv5_1'][0].data[i_n][i_c]\n",
    "#print net_in.params['conv1_2'][0].data"
   ]
  },
  {
   "cell_type": "code",
   "execution_count": 33,
   "metadata": {
    "collapsed": true
   },
   "outputs": [],
   "source": [
    "for i_n in range(l_in.shape[0]):\n",
    "    for i_c in range(l.shape[1]):\n",
    "        if net.params['conv5_2'][0].data[i_n].all()!=0 and i_c < net_in.params['conv5_2'][0].data.shape[1]:\n",
    "             net_in.params['conv5_2'][0].data[i_n][i_c]=net.params['conv5_2'][0].data[i_n][i_c]\n",
    "#print net_in.params['conv1_2'][0].data"
   ]
  },
  {
   "cell_type": "code",
   "execution_count": 34,
   "metadata": {
    "collapsed": true
   },
   "outputs": [],
   "source": [
    "for i_n in range(m_in.shape[0]):\n",
    "    for i_c in range(m.shape[1]):\n",
    "        if net.params['conv5_3'][0].data[i_n].all()!=0 and i_c < net_in.params['conv5_3'][0].data.shape[1]:\n",
    "             net_in.params['conv5_3'][0].data[i_n][i_c]=net.params['conv5_3'][0].data[i_n][i_c]\n",
    "#print net_in.params['conv1_2'][0].data"
   ]
  },
  {
   "cell_type": "code",
   "execution_count": 35,
   "metadata": {
    "collapsed": true
   },
   "outputs": [],
   "source": [
    "for i_n in range(n_in.shape[0]):\n",
    "    for i_c in range(n.shape[1]):\n",
    "        if net.params['fc6'][0].data[i_n].all()!=0 and i_c < net_in.params['fc6'][0].data.shape[1]:\n",
    "             net_in.params['fc6'][0].data[i_n][i_c]=net.params['fc6'][0].data[i_n][i_c]\n",
    "#print net_in.params['conv1_2'][0].data"
   ]
  },
  {
   "cell_type": "code",
   "execution_count": 36,
   "metadata": {
    "collapsed": true
   },
   "outputs": [],
   "source": [
    "for i_n in range(o_in.shape[0]):\n",
    "    for i_c in range(o.shape[1]):\n",
    "        if net.params['fc7'][0].data[i_n].all()!=0 and i_c < net_in.params['fc7'][0].data.shape[1]:\n",
    "             net_in.params['fc7'][0].data[i_n][i_c]=net.params['fc7'][0].data[i_n][i_c]\n",
    "#print net_in.params['conv1_2'][0].data"
   ]
  },
  {
   "cell_type": "code",
   "execution_count": null,
   "metadata": {
    "collapsed": true
   },
   "outputs": [],
   "source": [
    "for i_n in range(p_in.shape[0]):\n",
    "    for i_c in range(p.shape[1]):\n",
    "        if net.params['conv6_1'][0].data[i_n].all()!=0 and i_c < net_in.params['conv6_1'][0].data.shape[1]:\n",
    "             net_in.params['conv6_1'][0].data[i_n][i_c]=net.params['conv6_1'][0].data[i_n][i_c]\n",
    "#print net_in.params['conv1_2'][0].data"
   ]
  },
  {
   "cell_type": "code",
   "execution_count": null,
   "metadata": {
    "collapsed": true
   },
   "outputs": [],
   "source": [
    "for i_n in range(q_in.shape[0]):\n",
    "    for i_c in range(q.shape[1]):\n",
    "        if net.params['conv6_2'][0].data[i_n].all()!=0 and i_c < net_in.params['conv6_2'][0].data.shape[1]:\n",
    "             net_in.params['conv6_2'][0].data[i_n][i_c]=net.params['conv6_2'][0].data[i_n][i_c]\n",
    "#print net_in.params['conv1_2'][0].data"
   ]
  },
  {
   "cell_type": "code",
   "execution_count": null,
   "metadata": {
    "collapsed": true
   },
   "outputs": [],
   "source": [
    "for i_n in range(r_in.shape[0]):\n",
    "    for i_c in range(r.shape[1]):\n",
    "        if net.params['conv7_1'][0].data[i_n].all()!=0 and i_c < net_in.params['conv7_1'][0].data.shape[1]:\n",
    "             net_in.params['conv7_1'][0].data[i_n][i_c]=net.params['conv7_1'][0].data[i_n][i_c]\n",
    "#print net_in.params['conv1_2'][0].data"
   ]
  },
  {
   "cell_type": "code",
   "execution_count": null,
   "metadata": {
    "collapsed": true
   },
   "outputs": [],
   "source": [
    "for i_n in range(s_in.shape[0]):\n",
    "    for i_c in range(s.shape[1]):\n",
    "        if net.params['conv7_2'][0].data[i_n].all()!=0 and i_c < net_in.params['conv7_2'][0].data.shape[1]:\n",
    "             net_in.params['conv7_2'][0].data[i_n][i_c]=net.params['conv7_2'][0].data[i_n][i_c]\n",
    "#print net_in.params['conv1_2'][0].data"
   ]
  },
  {
   "cell_type": "code",
   "execution_count": null,
   "metadata": {
    "collapsed": true
   },
   "outputs": [],
   "source": [
    "for i_n in range(t_in.shape[0]):\n",
    "    for i_c in range(t.shape[1]):\n",
    "        if net.params['conv8_1'][0].data[i_n].all()!=0 and i_c < net_in.params['conv8_1'][0].data.shape[1]:\n",
    "             net_in.params['conv8_1'][0].data[i_n][i_c]=net.params['conv8_1'][0].data[i_n][i_c]\n",
    "#print net_in.params['conv1_2'][0].data"
   ]
  },
  {
   "cell_type": "code",
   "execution_count": null,
   "metadata": {
    "collapsed": true
   },
   "outputs": [],
   "source": [
    "for i_n in range(u_in.shape[0]):\n",
    "    for i_c in range(u.shape[1]):\n",
    "        if net.params['conv8_2'][0].data[i_n].all()!=0 and i_c < net_in.params['conv8_2'][0].data.shape[1]:\n",
    "             net_in.params['conv8_2'][0].data[i_n][i_c]=net.params['conv8_2'][0].data[i_n][i_c]\n",
    "#print net_in.params['conv1_2'][0].data"
   ]
  },
  {
   "cell_type": "code",
   "execution_count": null,
   "metadata": {
    "collapsed": true
   },
   "outputs": [],
   "source": [
    "for i_n in range(v_in.shape[0]):\n",
    "    for i_c in range(v.shape[1]):\n",
    "        if net.params['conv9_1'][0].data[i_n].all()!=0 and i_c < net_in.params['conv9_1'][0].data.shape[1]:\n",
    "             net_in.params['conv9_1'][0].data[i_n][i_c]=net.params['conv9_1'][0].data[i_n][i_c]\n",
    "#print net_in.params['conv1_2'][0].data"
   ]
  },
  {
   "cell_type": "code",
   "execution_count": null,
   "metadata": {
    "collapsed": true
   },
   "outputs": [],
   "source": [
    "for i_n in range(w_in.shape[0]):\n",
    "    for i_c in range(w.shape[1]):\n",
    "        if net.params['conv9_2'][0].data[i_n].all()!=0 and i_c < net_in.params['conv9_2'][0].data.shape[1]:\n",
    "             net_in.params['conv9_2'][0].data[i_n][i_c]=net.params['conv9_2'][0].data[i_n][i_c]\n",
    "#print net_in.params['conv1_2'][0].data"
   ]
  },
  {
   "cell_type": "code",
   "execution_count": 23,
   "metadata": {
    "collapsed": true
   },
   "outputs": [],
   "source": [
    "net_in.save('/home/sdu/caffe-ssd/models/VGGNet/VOC2016/SSD_300x300/newmethod.caffemodel')"
   ]
  },
  {
   "cell_type": "code",
   "execution_count": null,
   "metadata": {
    "collapsed": true
   },
   "outputs": [],
   "source": [
    "net.params['conv3_2'][0].data[0]#检查一下"
   ]
  },
  {
   "cell_type": "code",
   "execution_count": null,
   "metadata": {
    "collapsed": true
   },
   "outputs": [],
   "source": [
    "net_in.params['conv3_2'][0].data[0]"
   ]
  },
  {
   "cell_type": "code",
   "execution_count": null,
   "metadata": {
    "collapsed": true
   },
   "outputs": [],
   "source": []
  }
 ],
 "metadata": {
  "kernelspec": {
   "display_name": "Python 2",
   "language": "python",
   "name": "python2"
  },
  "language_info": {
   "codemirror_mode": {
    "name": "ipython",
    "version": 2
   },
   "file_extension": ".py",
   "mimetype": "text/x-python",
   "name": "python",
   "nbconvert_exporter": "python",
   "pygments_lexer": "ipython2",
   "version": "2.7.14"
  }
 },
 "nbformat": 4,
 "nbformat_minor": 2
}
